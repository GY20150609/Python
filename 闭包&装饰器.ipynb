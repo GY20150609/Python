{
  "nbformat": 4,
  "nbformat_minor": 0,
  "metadata": {
    "colab": {
      "name": "闭包&装饰器.ipynb",
      "version": "0.3.2",
      "provenance": [],
      "collapsed_sections": [],
      "include_colab_link": true
    },
    "kernelspec": {
      "name": "python3",
      "display_name": "Python 3"
    }
  },
  "cells": [
    {
      "cell_type": "markdown",
      "metadata": {
        "id": "view-in-github",
        "colab_type": "text"
      },
      "source": [
        "<a href=\"https://colab.research.google.com/github/GY20150609/Python/blob/master/%E9%97%AD%E5%8C%85%26%E8%A3%85%E9%A5%B0%E5%99%A8.ipynb\" target=\"_parent\"><img src=\"https://colab.research.google.com/assets/colab-badge.svg\" alt=\"Open In Colab\"/></a>"
      ]
    },
    {
      "cell_type": "markdown",
      "metadata": {
        "id": "-qZzAme1m5aU",
        "colab_type": "text"
      },
      "source": [
        "#1.闭包\n",
        "\n",
        "非人话：Objects(对象) are data with methods attached. Closures(闭包) are functions with data attached.\n",
        "\n",
        "翻 译：所谓对象(Object)，指的是附带相应方法的数据。那么相对而言，闭包(closure)指的则是附带相应数据的函数。\n",
        "\n",
        "人 话：闭包函数能够引用一些并不在当前函数定义代码块中定义的变量。"
      ]
    },
    {
      "cell_type": "markdown",
      "metadata": {
        "id": "UP4TbOsrnEX1",
        "colab_type": "text"
      },
      "source": [
        "**1.1 python2.X 中的的闭包**\n",
        "\n",
        "只能获取闭包中自由变量的值，但无法改变其值。"
      ]
    },
    {
      "cell_type": "code",
      "metadata": {
        "id": "HWsfiacjnXsj",
        "colab_type": "code",
        "outputId": "4286910b-39d1-4fae-9459-84e5be0eebcf",
        "colab": {
          "base_uri": "https://localhost:8080/",
          "height": 34
        }
      },
      "source": [
        "#EXAMPLE\n",
        "def constant_adder(x):\n",
        "    #自由变量constant位于函数代码块外面\n",
        "    constant = x\n",
        "    def adder(y):\n",
        "        y = y + constant\n",
        "        return y\n",
        "    return adder\n",
        "  \n",
        "f1 = constant_adder(1)\n",
        "f1(2)"
      ],
      "execution_count": 0,
      "outputs": [
        {
          "output_type": "execute_result",
          "data": {
            "text/plain": [
              "3"
            ]
          },
          "metadata": {
            "tags": []
          },
          "execution_count": 3
        }
      ]
    },
    {
      "cell_type": "markdown",
      "metadata": {
        "colab_type": "text",
        "id": "8ywRdXYOnuk0"
      },
      "source": [
        "**1.2 python3.X 中的的闭包**\n",
        "\n",
        "Python3.0引入了**nonlocal**关键字，不仅能获取闭包中自由变量的值，还能改变其值"
      ]
    },
    {
      "cell_type": "code",
      "metadata": {
        "id": "emXyL_ZbnYU0",
        "colab_type": "code",
        "outputId": "0be38be2-a456-4c68-f211-7fc7f63557ef",
        "colab": {
          "base_uri": "https://localhost:8080/",
          "height": 34
        }
      },
      "source": [
        "#EXAMPLE\n",
        "def constant_adder(x):\n",
        "    #自由变量constant位于函数代码块外面\n",
        "    constant = x\n",
        "    def adder(y):\n",
        "        #改变自由变量的值\n",
        "        nonlocal constant\n",
        "        constant = 10\n",
        "        y = y + constant\n",
        "        return y\n",
        "    return adder\n",
        "  \n",
        "f1 = constant_adder(1)\n",
        "f1(2)"
      ],
      "execution_count": 0,
      "outputs": [
        {
          "output_type": "execute_result",
          "data": {
            "text/plain": [
              "12"
            ]
          },
          "metadata": {
            "tags": []
          },
          "execution_count": 5
        }
      ]
    },
    {
      "cell_type": "markdown",
      "metadata": {
        "id": "FtoSZESinEcs",
        "colab_type": "text"
      },
      "source": [
        "#2.装饰器(Decorator)-基础\n",
        "\n",
        "Python中的函数(function)也是对象，可以作为参数传递，可以被赋值给另一个变量。"
      ]
    },
    {
      "cell_type": "markdown",
      "metadata": {
        "id": "V5Cwpo5hnEfd",
        "colab_type": "text"
      },
      "source": [
        "**2.1 函数对象**\n",
        "\n",
        "*函数名只是对函数方法的引用，可以通过赋值达到调用该函数方法的目的，删除函数名不影响函数方法的调用。\n"
      ]
    },
    {
      "cell_type": "code",
      "metadata": {
        "id": "r6ZdoXcUqS8F",
        "colab_type": "code",
        "colab": {}
      },
      "source": [
        "#EXAMPLE\n",
        "def add(x,y):\n",
        "  return x + y\n",
        "\n",
        "#函数赋值\n",
        "add(1,2)\n",
        "f = add\n",
        "f(1,2)\n",
        "\n",
        "#删除函数名\n",
        "del add\n",
        "f(1,2)   --正常执行\n",
        "add(1,2) --报错"
      ],
      "execution_count": 0,
      "outputs": []
    },
    {
      "cell_type": "markdown",
      "metadata": {
        "id": "3JnvC-yanEkk",
        "colab_type": "text"
      },
      "source": [
        "*函数可以非常灵活地在各种位置被定义，包括另一个函数内部。"
      ]
    },
    {
      "cell_type": "code",
      "metadata": {
        "id": "6Bbyidh3sIjC",
        "colab_type": "code",
        "outputId": "90536fa3-bac4-4434-aa02-1d8011ff1804",
        "colab": {
          "base_uri": "https://localhost:8080/",
          "height": 34
        }
      },
      "source": [
        "#EXAMPLE\n",
        "def adder():\n",
        "  def add(x=1,y=2):\n",
        "    return x + y\n",
        "  return add()\n",
        "\n",
        "adder()"
      ],
      "execution_count": 0,
      "outputs": [
        {
          "output_type": "execute_result",
          "data": {
            "text/plain": [
              "3"
            ]
          },
          "metadata": {
            "tags": []
          },
          "execution_count": 16
        }
      ]
    },
    {
      "cell_type": "markdown",
      "metadata": {
        "id": "biyh4o6lnE68",
        "colab_type": "text"
      },
      "source": [
        "**2.2 装饰器基本逻辑**\n",
        "\n",
        "python中装饰器其实只是对其所装饰的函数的一层额外包装。即接受一个函数作为输入，然后定义另外一个包装函数在其执行前后加入另外一些逻辑，最终返回这个\n",
        "\n",
        "包装函数。在装饰器中，我们可以完全不修改原有函数的情况下，执行所装饰的函数之外另外包装一些别的代码逻辑。\n",
        "\n",
        "**Step1**: 定义需要装饰的函数\n",
        "\n",
        "一般用于实现某种具体的功能\n",
        "\n",
        "**Step2**: 构建最外层装饰函数\n",
        "\n",
        "**Step3**: 在装饰函数中定义一个包装函数\n",
        "\n",
        "这个函数将负责在我们所要装饰的函数（调用）前后文中添加我们需要的代码逻辑\n",
        "\n",
        "**Step4**：包装函数作为装饰器函数的返回"
      ]
    },
    {
      "cell_type": "code",
      "metadata": {
        "id": "TQAJ9Tz6u6OM",
        "colab_type": "code",
        "colab": {}
      },
      "source": [
        "# 装饰器就是接受一个函数作为输入，并返回另一个函数的函数\n",
        "def basic_decorator_logic(func_to_decorate): \n",
        "    # 定义包装函数\n",
        "    def the_wrapper_around_the_original_function():\n",
        "        # 前逻辑\n",
        "        print('Before the original function runs')\n",
        "\n",
        "        # 调用原始函数，体现了python中闭包的概念\n",
        "        func_to_decorate()\n",
        "\n",
        "        # 后逻辑\n",
        "        print('After the original function runs')\n",
        "\n",
        "    # 返回包装函数\n",
        "    # the_wrapper_around_the_original_function`包含需要在被装饰函数执行前后需要添加的逻辑以及被包装函数的执行\n",
        "    # 这里返回的是动态定义的包装函数对象本身，而不是包装函数的执行结果\n",
        "    return the_wrapper_around_the_original_function"
      ],
      "execution_count": 0,
      "outputs": []
    },
    {
      "cell_type": "markdown",
      "metadata": {
        "id": "cRllbvIYxns3",
        "colab_type": "text"
      },
      "source": [
        "**2.3 装饰器的使用**\n",
        "\n",
        "python中使用装饰器往往是为了在后文中完全用装饰过后的函数替代我们原本定义的函数，我们可以将装饰过后的函数赋值给原函数对应的变量名，从而在代码下\n",
        "\n",
        "文中实现永久替换"
      ]
    },
    {
      "cell_type": "code",
      "metadata": {
        "id": "JE8zyhpbuVY8",
        "colab_type": "code",
        "outputId": "adac3049-b957-4c90-985a-9f4970f883a2",
        "colab": {
          "base_uri": "https://localhost:8080/",
          "height": 87
        }
      },
      "source": [
        "## 显式使用\n",
        "\n",
        "def function_we_want_to_decorate():\n",
        "    print('This is a function that is going to be decorated, we can add additional execution logic without changing the function')\n",
        "\n",
        "function_we_want_to_decorate()\n",
        "\n",
        "# 我们只需要将`function_we_want_to_decorate`作为参数传入我们上面定义的装饰器函数中，就可以获得一个被包装过的新函数。\n",
        "# 这一新函数中包含了一些我们额外添加的逻辑\n",
        "function_we_want_to_decoratre = basic_decorator_logic(function_we_want_to_decorate)\n",
        "\n",
        "function_we_want_to_decoratre()"
      ],
      "execution_count": 0,
      "outputs": [
        {
          "output_type": "stream",
          "text": [
            "This is a function that is going to be decorated, we can add additional execution logic without changing the function\n",
            "Before the original function runs\n",
            "This is a function that is going to be decorated, we can add additional execution logic without changing the function\n",
            "After the original function runs\n"
          ],
          "name": "stdout"
        }
      ]
    },
    {
      "cell_type": "code",
      "metadata": {
        "id": "jkZDQdaUzO6v",
        "colab_type": "code",
        "colab": {}
      },
      "source": [
        "## 隐式使用 装饰器语法@  声明后待包装函数不能直接调用\n",
        "\n",
        "@basic_decorator_logic\n",
        "def function_we_want_to_decorate():\n",
        "    print('This is a function that is going to be decorated, we can add additional execution logic without changing the function')"
      ],
      "execution_count": 0,
      "outputs": []
    },
    {
      "cell_type": "markdown",
      "metadata": {
        "id": "OyTET6zOnE9U",
        "colab_type": "text"
      },
      "source": [
        "**2.4 多个装饰器的使用**\n",
        "\n",
        "多层装饰器将被从里到外执行，也就是对于同一个函数定义上方的装饰器，最上面一行的装饰器将被最后套用，而最下面一行的装饰器将被最先套用"
      ]
    },
    {
      "cell_type": "code",
      "metadata": {
        "id": "4rrE93Xd1mlZ",
        "colab_type": "code",
        "outputId": "e802241b-3e13-4008-bb00-8c32455650e9",
        "colab": {
          "base_uri": "https://localhost:8080/",
          "height": 105
        }
      },
      "source": [
        "def outer_decorator(func):\n",
        "    def wrapper():\n",
        "        print('outer_wrapper_before')\n",
        "        func()\n",
        "        print('outer_wrapper_aftrer')\n",
        "    return wrapper\n",
        "\n",
        "def inner_decorator(func):\n",
        "    def wrapper():\n",
        "        print('inner_wrapper_before')\n",
        "        func()\n",
        "        print('inner_wrapper_after')\n",
        "    return wrapper\n",
        "\n",
        "def hotpot(sentence='I love hotpot!'):\n",
        "    print(sentence)\n",
        "\n",
        "def func():\n",
        "  print('I love hotpot!')\n",
        "# output: I love hotpot!\n",
        "\n",
        "func = outer_decorator(inner_decorator(func))\n",
        "func()"
      ],
      "execution_count": 0,
      "outputs": [
        {
          "output_type": "stream",
          "text": [
            "outer_wrapper_before\n",
            "inner_wrapper_before\n",
            "I love hotpot!\n",
            "inner_wrapper_after\n",
            "outer_wrapper_aftrer\n"
          ],
          "name": "stdout"
        }
      ]
    },
    {
      "cell_type": "code",
      "metadata": {
        "id": "BCdDdkQN2WYS",
        "colab_type": "code",
        "outputId": "1a8e3a63-8e6f-4660-cb0b-68e5182e44c4",
        "colab": {
          "base_uri": "https://localhost:8080/",
          "height": 105
        }
      },
      "source": [
        "@outer_decorator\n",
        "@inner_decorator\n",
        "def beijing_duck(sentence='I love beijing duck!'):\n",
        "    print(sentence)\n",
        "\n",
        "beijing_duck()"
      ],
      "execution_count": 0,
      "outputs": [
        {
          "output_type": "stream",
          "text": [
            "outer_wrapper_before\n",
            "inner_wrapper_before\n",
            "I love beijing duck!\n",
            "inner_wrapper_after\n",
            "outer_wrapper_aftrer\n"
          ],
          "name": "stdout"
        }
      ]
    },
    {
      "cell_type": "code",
      "metadata": {
        "id": "IneGS1N32bAD",
        "colab_type": "code",
        "outputId": "5fc6da8f-4000-4b78-81d2-653c02b80002",
        "colab": {
          "base_uri": "https://localhost:8080/",
          "height": 125
        }
      },
      "source": [
        "@inner_decorator\n",
        "@outer_decorator\n",
        "def gopnik(sentence='Gopnik!'):\n",
        "    print('adidas, adidas hard bass and ignoring gravity are the 3 most important factors for gopnik dance! Check it out on bilibili and you will laugh your ass off.')\n",
        "\n",
        "gopnik()"
      ],
      "execution_count": 0,
      "outputs": [
        {
          "output_type": "stream",
          "text": [
            "inner_wrapper_before\n",
            "outer_wrapper_before\n",
            "adidas, adidas hard bass and ignoring gravity are the 3 most important factors for gopnik dance! Check it out on bilibili and you will laugh your ass off.\n",
            "outer_wrapper_aftrer\n",
            "inner_wrapper_after\n"
          ],
          "name": "stdout"
        }
      ]
    },
    {
      "cell_type": "markdown",
      "metadata": {
        "id": "YlSLEBfm2goW",
        "colab_type": "text"
      },
      "source": [
        "#3.装饰器(Decorator)-进阶"
      ]
    },
    {
      "cell_type": "markdown",
      "metadata": {
        "id": "h4GSCL_FnE_-",
        "colab_type": "text"
      },
      "source": [
        "**3.1 对带传参的函数进行装饰**\n",
        "\n",
        "由于装饰器事实上返回了一个新的函数来代替我们需要装饰的函数，所以我们只需要确保在装饰器中返回的新的函数与原函数所接受的参数格式一致即可"
      ]
    },
    {
      "cell_type": "code",
      "metadata": {
        "id": "5mRDTniF453u",
        "colab_type": "code",
        "outputId": "3e489e2b-691d-4931-8997-df9286d3dbfe",
        "colab": {
          "base_uri": "https://localhost:8080/",
          "height": 52
        }
      },
      "source": [
        "def decorator_for_func_with_arguments(func_to_decorate):\n",
        "    def wrapper_that_passes_through_arguments(arg1, arg2):\n",
        "        print('I got args! Look: {} {}'.format(arg1, arg2))\n",
        "        func_to_decorate(arg1, arg2)\n",
        "    return wrapper_that_passes_through_arguments\n",
        "\n",
        "#等价于 print_full_name = decorator_for_func_with_arguments(print_full_name)\n",
        "@ decorator_for_func_with_arguments   \n",
        "def print_full_name(first_name, last_name):\n",
        "    print('I am {} {}'.format(first_name, last_name))\n",
        "    \n",
        "print_full_name('guo','yu')"
      ],
      "execution_count": 0,
      "outputs": [
        {
          "output_type": "stream",
          "text": [
            "I got args! Look: guo yu\n",
            "I am guo yu\n"
          ],
          "name": "stdout"
        }
      ]
    },
    {
      "cell_type": "markdown",
      "metadata": {
        "id": "ybnpH-LN5n2B",
        "colab_type": "text"
      },
      "source": [
        "**3.2 对类方法进行装饰**\n",
        "\n",
        "类方法事实上与函数一样，只是固定接收当前实例的引用作为第一个参数，一般标记为self。那么能够装饰类方法的装饰器事实上也可以用与问题一中一致的方法实\n",
        "\n",
        "现，只不过我们总是要确保返回的函数所接收的第一个参数也是当前实例的引用（self）即可。"
      ]
    },
    {
      "cell_type": "code",
      "metadata": {
        "id": "GwgkslyK6H9l",
        "colab_type": "code",
        "outputId": "8b3e8630-3f23-49db-cfef-f5e625a0f1bd",
        "colab": {
          "base_uri": "https://localhost:8080/",
          "height": 34
        }
      },
      "source": [
        "def decorator_for_instance_method(method_to_decorate):\n",
        "    def wrapper(self, bonus):\n",
        "        # 升职加薪，奖金增加一倍\n",
        "        bonus = bonus * 2\n",
        "        return method_to_decorate(self, bonus)\n",
        "    return wrapper\n",
        "\n",
        "class Salary(object):\n",
        "    def __init__(self):\n",
        "        self.base = 666\n",
        "\n",
        "    @decorator_for_instance_method\n",
        "    def total_compensation(self, bonus):\n",
        "        print('Congrats! You got a total compensation of {}'.format(self.base * 12 + bonus))\n",
        "        \n",
        "ss = Salary()\n",
        "ss.total_compensation(10)\n"
      ],
      "execution_count": 0,
      "outputs": [
        {
          "output_type": "stream",
          "text": [
            "Congrats! You got a total compensation of 8012\n"
          ],
          "name": "stdout"
        }
      ]
    },
    {
      "cell_type": "markdown",
      "metadata": {
        "id": "ojf9URHK5oQL",
        "colab_type": "text"
      },
      "source": [
        "**3.3 对接收任意数目参数的函数进行装饰**\n",
        "\n",
        "\"* args\"  && \"** kwargs\""
      ]
    },
    {
      "cell_type": "code",
      "metadata": {
        "id": "rwMgasKi5nMB",
        "colab_type": "code",
        "outputId": "4ba91a54-1919-41b6-aae2-6f984a0bde11",
        "colab": {
          "base_uri": "https://localhost:8080/",
          "height": 87
        }
      },
      "source": [
        "#无参函数\n",
        "\n",
        "def decorator_passing_arbitrary_arguments(function_to_decorate):\n",
        "    def wrapper_with_arbitrary_arguments(*args, **kwargs):\n",
        "        print('Received arguments as following')\n",
        "        print(args)\n",
        "        print(kwargs)\n",
        "\n",
        "        function_to_decorate(*args, **kwargs)\n",
        "\n",
        "    return wrapper_with_arbitrary_arguments\n",
        "\n",
        "@decorator_passing_arbitrary_arguments\n",
        "def function_with_no_argument():\n",
        "    print('This function does not have any argument')\n",
        "\n",
        "function_with_no_argument()\n"
      ],
      "execution_count": 0,
      "outputs": [
        {
          "output_type": "stream",
          "text": [
            "Received arguments as following\n",
            "()\n",
            "{}\n",
            "This function does not have any argument\n"
          ],
          "name": "stdout"
        }
      ]
    },
    {
      "cell_type": "code",
      "metadata": {
        "id": "e5ylViJN8bSU",
        "colab_type": "code",
        "outputId": "17ab081b-cc96-4b79-8c57-466bd7f22d52",
        "colab": {
          "base_uri": "https://localhost:8080/",
          "height": 87
        }
      },
      "source": [
        "#有参函数\n",
        "\n",
        "@decorator_passing_arbitrary_arguments\n",
        "def function_with_arguments(a, b, c):\n",
        "    print('This function has arguments')\n",
        "\n",
        "function_with_arguments(1,2,3)\n"
      ],
      "execution_count": 0,
      "outputs": [
        {
          "output_type": "stream",
          "text": [
            "Received arguments as following\n",
            "(1, 2, 3)\n",
            "{}\n",
            "This function has arguments\n"
          ],
          "name": "stdout"
        }
      ]
    },
    {
      "cell_type": "code",
      "metadata": {
        "id": "iE9mjkqX8fO7",
        "colab_type": "code",
        "outputId": "0c5cbc67-bb9a-44ee-baf1-3e7b5a1239c7",
        "colab": {
          "base_uri": "https://localhost:8080/",
          "height": 105
        }
      },
      "source": [
        "#带字典参数的函数\n",
        "\n",
        "@decorator_passing_arbitrary_arguments\n",
        "def function_with_named_arguments(a, b, c, name):\n",
        "    print('{}, {}, {}'.format(a, b, c))\n",
        "    print('{}'.format(name))\n",
        "\n",
        "function_with_named_arguments(1, 2, 3, name='robot')\n"
      ],
      "execution_count": 0,
      "outputs": [
        {
          "output_type": "stream",
          "text": [
            "Received arguments as following\n",
            "(1, 2, 3)\n",
            "{'name': 'robot'}\n",
            "1, 2, 3\n",
            "robot\n"
          ],
          "name": "stdout"
        }
      ]
    },
    {
      "cell_type": "code",
      "metadata": {
        "id": "Sea5uewG8ihS",
        "colab_type": "code",
        "outputId": "6ec6048d-402d-4d94-c14d-34173fb59cbf",
        "colab": {
          "base_uri": "https://localhost:8080/",
          "height": 87
        }
      },
      "source": [
        "#类方法，实例对象也会作为一个参数存在args中\n",
        "\n",
        "class Salary(object):\n",
        "    def __init__(self):\n",
        "        self.base = 666\n",
        "\n",
        "    @decorator_passing_arbitrary_arguments\n",
        "    def total_compensation(self, bonus):\n",
        "        print('Congrats! You got a total compensation of {}'.format(self.base * 12 + bonus))\n",
        "\n",
        "salary = Salary()\n",
        "salary.total_compensation(2048)"
      ],
      "execution_count": 0,
      "outputs": [
        {
          "output_type": "stream",
          "text": [
            "Received arguments as following\n",
            "(<__main__.Salary object at 0x7fc8cb364dd8>, 2048)\n",
            "{}\n",
            "Congrats! You got a total compensation of 10040\n"
          ],
          "name": "stdout"
        }
      ]
    },
    {
      "cell_type": "markdown",
      "metadata": {
        "id": "hWFALExq258k",
        "colab_type": "text"
      },
      "source": [
        "**3.4 装饰函数传入参数**\n",
        "\n",
        "装饰器工厂函数——动态生成装饰器\n",
        "\n",
        "实现一个能够返回装饰器的函数来替装饰器接收参数，并使用闭包的方法来将这些参数传递到装饰器中。"
      ]
    },
    {
      "cell_type": "code",
      "metadata": {
        "id": "hW1RX-Jr-IBJ",
        "colab_type": "code",
        "colab": {}
      },
      "source": [
        "#显式用法\n",
        "\n",
        "def decorator_maker():\n",
        "    print('This is a factory generating decorators on the fly. This function is called once we want a fresh decorator.')\n",
        "\n",
        "    def my_decorator(func):\n",
        "        print('This is the decorator generated on the fly. This function is called when the decoration happens.')\n",
        "        # 类似地，我们还是在装饰器中定义一个wrapper还包装原函数\n",
        "        def wrapper():\n",
        "            print('This is the wrapper around the decorated function. This function is called once the decorated function is called.')\n",
        "            return func()\n",
        "\n",
        "        return wrapper\n",
        "\n",
        "    print('The decorator function created on the fly is returned.')\n",
        "    return my_decorator\n",
        "\n",
        "def func():\n",
        "    print('This is the function decorated.')\n",
        "\n",
        "fresh_decorator = decorator_maker()\n",
        "\n",
        "func = fresh_decorator(func)\n",
        "\n",
        "func()"
      ],
      "execution_count": 0,
      "outputs": []
    },
    {
      "cell_type": "code",
      "metadata": {
        "id": "ARpUKf3j_JoG",
        "colab_type": "code",
        "colab": {}
      },
      "source": [
        "# 隐式使用\n",
        "\n",
        "@decorator_maker()\n",
        "def func():\n",
        "    print('This is the function decorated.')\n",
        "\n",
        "func()"
      ],
      "execution_count": 0,
      "outputs": []
    }
  ]
}